{
 "cells": [
  {
   "cell_type": "code",
   "execution_count": 1,
   "metadata": {},
   "outputs": [
    {
     "name": "stdout",
     "output_type": "stream",
     "text": [
      "Collecting git+https://github.com/rongardF/tvdatafeed.git\n",
      "  Cloning https://github.com/rongardF/tvdatafeed.git to /private/var/folders/ks/bjl76g8d4zxgw0m5p8z2pd9r0000gn/T/pip-req-build-t2f6n8cj\n",
      "  Running command git clone --filter=blob:none --quiet https://github.com/rongardF/tvdatafeed.git /private/var/folders/ks/bjl76g8d4zxgw0m5p8z2pd9r0000gn/T/pip-req-build-t2f6n8cj\n",
      "  Resolved https://github.com/rongardF/tvdatafeed.git to commit e6f6aaa7de439ac6e454d9b26d2760ded8dc4923\n",
      "  Preparing metadata (setup.py) ... \u001b[?25ldone\n",
      "\u001b[?25hRequirement already satisfied: setuptools in /opt/anaconda3/lib/python3.12/site-packages (from tvdatafeed==2.1.0) (75.1.0)\n",
      "Requirement already satisfied: pandas in /opt/anaconda3/lib/python3.12/site-packages (from tvdatafeed==2.1.0) (2.2.3)\n",
      "Requirement already satisfied: websocket-client in /opt/anaconda3/lib/python3.12/site-packages (from tvdatafeed==2.1.0) (1.8.0)\n",
      "Requirement already satisfied: requests in /opt/anaconda3/lib/python3.12/site-packages (from tvdatafeed==2.1.0) (2.32.3)\n",
      "Requirement already satisfied: numpy>=1.26.0 in /opt/anaconda3/lib/python3.12/site-packages (from pandas->tvdatafeed==2.1.0) (1.26.4)\n",
      "Requirement already satisfied: python-dateutil>=2.8.2 in /opt/anaconda3/lib/python3.12/site-packages (from pandas->tvdatafeed==2.1.0) (2.9.0.post0)\n",
      "Requirement already satisfied: pytz>=2020.1 in /opt/anaconda3/lib/python3.12/site-packages (from pandas->tvdatafeed==2.1.0) (2024.1)\n",
      "Requirement already satisfied: tzdata>=2022.7 in /opt/anaconda3/lib/python3.12/site-packages (from pandas->tvdatafeed==2.1.0) (2023.3)\n",
      "Requirement already satisfied: charset-normalizer<4,>=2 in /opt/anaconda3/lib/python3.12/site-packages (from requests->tvdatafeed==2.1.0) (3.3.2)\n",
      "Requirement already satisfied: idna<4,>=2.5 in /opt/anaconda3/lib/python3.12/site-packages (from requests->tvdatafeed==2.1.0) (3.7)\n",
      "Requirement already satisfied: urllib3<3,>=1.21.1 in /opt/anaconda3/lib/python3.12/site-packages (from requests->tvdatafeed==2.1.0) (2.2.3)\n",
      "Requirement already satisfied: certifi>=2017.4.17 in /opt/anaconda3/lib/python3.12/site-packages (from requests->tvdatafeed==2.1.0) (2025.1.31)\n",
      "Requirement already satisfied: six>=1.5 in /opt/anaconda3/lib/python3.12/site-packages (from python-dateutil>=2.8.2->pandas->tvdatafeed==2.1.0) (1.16.0)\n"
     ]
    }
   ],
   "source": [
    "!pip install --upgrade --no-cache-dir git+https://github.com/rongardF/tvdatafeed.git"
   ]
  },
  {
   "cell_type": "code",
   "execution_count": 2,
   "metadata": {},
   "outputs": [],
   "source": [
    "from tvDatafeed import TvDatafeed, Interval\n",
    "\n",
    "username = 'whitebro0201'\n",
    "password = '@Pass1234wordwith'\n",
    "\n",
    "tv = TvDatafeed(username, password)"
   ]
  },
  {
   "cell_type": "code",
   "execution_count": 27,
   "metadata": {},
   "outputs": [
    {
     "name": "stdout",
     "output_type": "stream",
     "text": [
      "Saved: data/BTCUSD/BTCUSD_1min.csv\n",
      "Saved: data/BTCUSD/BTCUSD_3min.csv\n",
      "Saved: data/BTCUSD/BTCUSD_5min.csv\n",
      "Saved: data/BTCUSD/BTCUSD_15min.csv\n",
      "Saved: data/BTCUSD/BTCUSD_30min.csv\n",
      "Saved: data/BTCUSD/BTCUSD_45min.csv\n",
      "Saved: data/BTCUSD/BTCUSD_1h.csv\n",
      "Saved: data/BTCUSD/BTCUSD_2h.csv\n",
      "Saved: data/BTCUSD/BTCUSD_3h.csv\n",
      "Saved: data/BTCUSD/BTCUSD_4h.csv\n",
      "Saved: data/BTCUSD/BTCUSD_daily.csv\n",
      "Saved: data/BTCUSD/BTCUSD_weekly.csv\n",
      "Saved: data/BTCUSD/BTCUSD_monthly.csv\n"
     ]
    }
   ],
   "source": [
    "import os\n",
    "\n",
    "# Define folder where data will be saved\n",
    "folder = \"data/BTCUSD\"\n",
    "\n",
    "# Make sure the folder exists\n",
    "os.makedirs(folder, exist_ok=True)\n",
    "\n",
    "# Dictionary of all your timeframes\n",
    "timeframes = {\n",
    "    '1min': tv.get_hist(symbol='BTCUSD', exchange='COINBASE', interval=Interval.in_1_minute, n_bars=1000000),\n",
    "    '3min': tv.get_hist(symbol='BTCUSD', exchange='COINBASE', interval=Interval.in_3_minute, n_bars=1000000),\n",
    "    '5min': tv.get_hist(symbol='BTCUSD', exchange='COINBASE', interval=Interval.in_5_minute, n_bars=1000000),\n",
    "    '15min': tv.get_hist(symbol='BTCUSD', exchange='COINBASE', interval=Interval.in_15_minute, n_bars=1000000),\n",
    "    '30min': tv.get_hist(symbol='BTCUSD', exchange='COINBASE', interval=Interval.in_30_minute, n_bars=1000000),\n",
    "    '45min': tv.get_hist(symbol='BTCUSD', exchange='COINBASE', interval=Interval.in_45_minute, n_bars=1000000),\n",
    "    '1h': tv.get_hist(symbol='BTCUSD', exchange='COINBASE', interval=Interval.in_1_hour, n_bars=1000000),\n",
    "    '2h': tv.get_hist(symbol='BTCUSD', exchange='COINBASE', interval=Interval.in_2_hour, n_bars=1000000),\n",
    "    '3h': tv.get_hist(symbol='BTCUSD', exchange='COINBASE', interval=Interval.in_3_hour, n_bars=1000000),\n",
    "    '4h': tv.get_hist(symbol='BTCUSD', exchange='COINBASE', interval=Interval.in_4_hour, n_bars=1000000),\n",
    "    'daily': tv.get_hist(symbol='BTCUSD', exchange='COINBASE', interval=Interval.in_daily, n_bars=1000000),\n",
    "    'weekly': tv.get_hist(symbol='BTCUSD', exchange='COINBASE', interval=Interval.in_weekly, n_bars=1000000),\n",
    "    'monthly': tv.get_hist(symbol='BTCUSD', exchange='COINBASE', interval=Interval.in_monthly, n_bars=1000000),\n",
    "}\n",
    "\n",
    "# Save each DataFrame as a CSV file\n",
    "for name, df in timeframes.items():\n",
    "    df_reset = df.reset_index()  \n",
    "    file_path = f\"data/BTCUSD/BTCUSD_{name}.csv\"\n",
    "    df_reset.to_csv(file_path, index=False)\n",
    "    print(f\"Saved: {file_path}\")\n"
   ]
  },
  {
   "cell_type": "code",
   "execution_count": 29,
   "metadata": {},
   "outputs": [
    {
     "name": "stdout",
     "output_type": "stream",
     "text": [
      "Saved: data/ETHUSD/ETHUSD_1min.csv\n",
      "Saved: data/ETHUSD/ETHUSD_3min.csv\n",
      "Saved: data/ETHUSD/ETHUSD_5min.csv\n",
      "Saved: data/ETHUSD/ETHUSD_15min.csv\n",
      "Saved: data/ETHUSD/ETHUSD_30min.csv\n",
      "Saved: data/ETHUSD/ETHUSD_45min.csv\n",
      "Saved: data/ETHUSD/ETHUSD_1h.csv\n",
      "Saved: data/ETHUSD/ETHUSD_2h.csv\n",
      "Saved: data/ETHUSD/ETHUSD_3h.csv\n",
      "Saved: data/ETHUSD/ETHUSD_4h.csv\n",
      "Saved: data/ETHUSD/ETHUSD_daily.csv\n",
      "Saved: data/ETHUSD/ETHUSD_weekly.csv\n",
      "Saved: data/ETHUSD/ETHUSD_monthly.csv\n"
     ]
    }
   ],
   "source": [
    "# Define folder where data will be saved\n",
    "folder = \"data/ETHUSD\"\n",
    "\n",
    "# Make sure the folder exists\n",
    "os.makedirs(folder, exist_ok=True)\n",
    "\n",
    "# Dictionary of all your timeframes\n",
    "timeframes = {\n",
    "    '1min': tv.get_hist(symbol='ETHUSD', exchange='COINBASE', interval=Interval.in_1_minute, n_bars=1000000),\n",
    "    '3min': tv.get_hist(symbol='ETHUSD', exchange='COINBASE', interval=Interval.in_3_minute, n_bars=1000000),\n",
    "    '5min': tv.get_hist(symbol='ETHUSD', exchange='COINBASE', interval=Interval.in_5_minute, n_bars=1000000),\n",
    "    '15min': tv.get_hist(symbol='ETHUSD', exchange='COINBASE', interval=Interval.in_15_minute, n_bars=1000000),\n",
    "    '30min': tv.get_hist(symbol='ETHUSD', exchange='COINBASE', interval=Interval.in_30_minute, n_bars=1000000),\n",
    "    '45min': tv.get_hist(symbol='ETHUSD', exchange='COINBASE', interval=Interval.in_45_minute, n_bars=1000000),\n",
    "    '1h': tv.get_hist(symbol='ETHUSD', exchange='COINBASE', interval=Interval.in_1_hour, n_bars=1000000),\n",
    "    '2h': tv.get_hist(symbol='ETHUSD', exchange='COINBASE', interval=Interval.in_2_hour, n_bars=1000000),\n",
    "    '3h': tv.get_hist(symbol='ETHUSD', exchange='COINBASE', interval=Interval.in_3_hour, n_bars=1000000),\n",
    "    '4h': tv.get_hist(symbol='ETHUSD', exchange='COINBASE', interval=Interval.in_4_hour, n_bars=1000000),\n",
    "    'daily': tv.get_hist(symbol='ETHUSD', exchange='COINBASE', interval=Interval.in_daily, n_bars=1000000),\n",
    "    'weekly': tv.get_hist(symbol='ETHUSD', exchange='COINBASE', interval=Interval.in_weekly, n_bars=1000000),\n",
    "    'monthly': tv.get_hist(symbol='ETHUSD', exchange='COINBASE', interval=Interval.in_monthly, n_bars=1000000),\n",
    "}\n",
    "\n",
    "# Save each DataFrame as a CSV file\n",
    "for name, df in timeframes.items():\n",
    "    df_reset = df.reset_index()  \n",
    "    file_path = f\"data/ETHUSD/ETHUSD_{name}.csv\"\n",
    "    df_reset.to_csv(file_path, index=False)\n",
    "    print(f\"Saved: {file_path}\")\n"
   ]
  },
  {
   "cell_type": "code",
   "execution_count": null,
   "metadata": {},
   "outputs": [
    {
     "name": "stdout",
     "output_type": "stream",
     "text": [
      "Saved: data/SOLUSD/SOLUSD_1min.csv\n",
      "Saved: data/SOLUSD/SOLUSD_3min.csv\n",
      "Saved: data/SOLUSD/SOLUSD_5min.csv\n",
      "Saved: data/SOLUSD/SOLUSD_15min.csv\n",
      "Saved: data/SOLUSD/SOLUSD_30min.csv\n",
      "Saved: data/SOLUSD/SOLUSD_45min.csv\n",
      "Saved: data/SOLUSD/SOLUSD_1h.csv\n",
      "Saved: data/SOLUSD/SOLUSD_2h.csv\n",
      "Saved: data/SOLUSD/SOLUSD_3h.csv\n",
      "Saved: data/SOLUSD/SOLUSD_4h.csv\n",
      "Saved: data/SOLUSD/SOLUSD_daily.csv\n",
      "Saved: data/SOLUSD/SOLUSD_weekly.csv\n",
      "Saved: data/SOLUSD/SOLUSD_monthly.csv\n"
     ]
    }
   ],
   "source": [
    "# Define folder where data will be saved\n",
    "folder = \"data/SOLUSD\"\n",
    "\n",
    "# Make sure the folder exists\n",
    "os.makedirs(folder, exist_ok=True)\n",
    "\n",
    "# Dictionary of all your timeframes\n",
    "timeframes = {\n",
    "    '1min': tv.get_hist(symbol='SOLUSD', exchange='COINBASE', interval=Interval.in_1_minute, n_bars=1000000),\n",
    "    '3min': tv.get_hist(symbol='SOLUSD', exchange='COINBASE', interval=Interval.in_3_minute, n_bars=1000000),\n",
    "    '5min': tv.get_hist(symbol='SOLUSD', exchange='COINBASE', interval=Interval.in_5_minute, n_bars=1000000),\n",
    "    '15min': tv.get_hist(symbol='SOLUSD', exchange='COINBASE', interval=Interval.in_15_minute, n_bars=1000000),\n",
    "    '30min': tv.get_hist(symbol='SOLUSD', exchange='COINBASE', interval=Interval.in_30_minute, n_bars=1000000),\n",
    "    '45min': tv.get_hist(symbol='SOLUSD', exchange='COINBASE', interval=Interval.in_45_minute, n_bars=1000000),\n",
    "    '1h': tv.get_hist(symbol='SOLUSD', exchange='COINBASE', interval=Interval.in_1_hour, n_bars=1000000),\n",
    "    '2h': tv.get_hist(symbol='SOLUSD', exchange='COINBASE', interval=Interval.in_2_hour, n_bars=1000000),\n",
    "    '3h': tv.get_hist(symbol='SOLUSD', exchange='COINBASE', interval=Interval.in_3_hour, n_bars=1000000),\n",
    "    '4h': tv.get_hist(symbol='SOLUSD', exchange='COINBASE', interval=Interval.in_4_hour, n_bars=1000000),\n",
    "    'daily': tv.get_hist(symbol='SOLUSD', exchange='COINBASE', interval=Interval.in_daily, n_bars=1000000),\n",
    "    'weekly': tv.get_hist(symbol='SOLUSD', exchange='COINBASE', interval=Interval.in_weekly, n_bars=1000000),\n",
    "    'monthly': tv.get_hist(symbol='SOLUSD', exchange='COINBASE', interval=Interval.in_monthly, n_bars=1000000),\n",
    "}\n",
    "\n",
    "# Save each DataFrame as a CSV file\n",
    "for name, df in timeframes.items():\n",
    "    df_reset = df.reset_index()  \n",
    "    file_path = f\"data/SOLUSD/SOLUSD_{name}.csv\"\n",
    "    df_reset.to_csv(file_path, index=False)\n",
    "    print(f\"Saved: {file_path}\")\n"
   ]
  }
 ],
 "metadata": {
  "kernelspec": {
   "display_name": "base",
   "language": "python",
   "name": "python3"
  },
  "language_info": {
   "codemirror_mode": {
    "name": "ipython",
    "version": 3
   },
   "file_extension": ".py",
   "mimetype": "text/x-python",
   "name": "python",
   "nbconvert_exporter": "python",
   "pygments_lexer": "ipython3",
   "version": "3.12.2"
  }
 },
 "nbformat": 4,
 "nbformat_minor": 2
}
