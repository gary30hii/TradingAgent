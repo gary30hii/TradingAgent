{
 "cells": [
  {
   "cell_type": "code",
   "execution_count": null,
   "metadata": {},
   "outputs": [],
   "source": [
    "! pip install finrl\n",
    "! pip install stable-baselines3\n",
    "! pip install alpaca-trade-api\n",
    "! pip install exchange-calendars\n",
    "! pip install stockstats\n",
    "! pip install wrds\n",
    "! pip install yfinance\n"
   ]
  },
  {
   "cell_type": "code",
   "execution_count": 18,
   "metadata": {},
   "outputs": [
    {
     "name": "stdout",
     "output_type": "stream",
     "text": [
      "Cloning into 'FinRL'...\n",
      "remote: Enumerating objects: 13827, done.\u001b[K\n",
      "remote: Counting objects: 100% (240/240), done.\u001b[K\n",
      "remote: Compressing objects: 100% (135/135), done.\u001b[K\n",
      "remote: Total 13827 (delta 157), reused 122 (delta 105), pack-reused 13587 (from 4)\u001b[K\n",
      "Receiving objects: 100% (13827/13827), 83.34 MiB | 855.00 KiB/s, done.\n",
      "Resolving deltas: 100% (9196/9196), done.\n",
      "/Users/gary/DIA/CW/FinRL\n",
      "Obtaining file:///Users/gary/DIA/CW/FinRL\n",
      "  Installing build dependencies ... \u001b[?25ldone\n",
      "\u001b[?25h  Checking if build backend supports build_editable ... \u001b[?25ldone\n",
      "\u001b[?25h  Getting requirements to build editable ... \u001b[?25ldone\n",
      "\u001b[?25h  Preparing editable metadata (pyproject.toml) ... \u001b[?25ldone\n",
      "\u001b[?25hCollecting elegantrl@ git+https://github.com/AI4Finance-Foundation/ElegantRL.git (from finrl==0.3.8)\n",
      "  Cloning https://github.com/AI4Finance-Foundation/ElegantRL.git to /private/var/folders/ks/bjl76g8d4zxgw0m5p8z2pd9r0000gn/T/pip-install-7jeei0rs/elegantrl_732bde5e37d04922b6f87de2d8861d99\n",
      "  Running command git clone --filter=blob:none --quiet https://github.com/AI4Finance-Foundation/ElegantRL.git /private/var/folders/ks/bjl76g8d4zxgw0m5p8z2pd9r0000gn/T/pip-install-7jeei0rs/elegantrl_732bde5e37d04922b6f87de2d8861d99\n",
      "  Resolved https://github.com/AI4Finance-Foundation/ElegantRL.git to commit 5e828af1503098f4da046c0f12432dbd4ef8bd97\n",
      "  Preparing metadata (setup.py) ... \u001b[?25ldone\n",
      "\u001b[?25hCollecting alpaca-py<0.38,>=0.37 (from finrl==0.3.8)\n",
      "  Downloading alpaca_py-0.37.0-py3-none-any.whl.metadata (13 kB)\n",
      "Requirement already satisfied: alpaca-trade-api<4,>=3 in /opt/anaconda3/lib/python3.12/site-packages (from finrl==0.3.8) (3.2.0)\n",
      "Collecting ccxt<4,>=3 (from finrl==0.3.8)\n",
      "  Downloading ccxt-3.1.60-py2.py3-none-any.whl.metadata (108 kB)\n",
      "Collecting jqdatasdk<2,>=1 (from finrl==0.3.8)\n",
      "  Downloading jqdatasdk-1.9.7-py3-none-any.whl.metadata (5.8 kB)\n",
      "Collecting pyfolio<0.10,>=0.9 (from finrl==0.3.8)\n",
      "  Downloading pyfolio-0.9.2.tar.gz (91 kB)\n",
      "  Preparing metadata (setup.py) ... \u001b[?25lerror\n",
      "  \u001b[1;31merror\u001b[0m: \u001b[1msubprocess-exited-with-error\u001b[0m\n",
      "  \n",
      "  \u001b[31m×\u001b[0m \u001b[32mpython setup.py egg_info\u001b[0m did not run successfully.\n",
      "  \u001b[31m│\u001b[0m exit code: \u001b[1;36m1\u001b[0m\n",
      "  \u001b[31m╰─>\u001b[0m \u001b[31m[18 lines of output]\u001b[0m\n",
      "  \u001b[31m   \u001b[0m /private/var/folders/ks/bjl76g8d4zxgw0m5p8z2pd9r0000gn/T/pip-install-7jeei0rs/pyfolio_f282641324394156b389485bb22118ef/versioneer.py:468: SyntaxWarning: invalid escape sequence '\\s'\n",
      "  \u001b[31m   \u001b[0m   LONG_VERSION_PY['git'] = '''\n",
      "  \u001b[31m   \u001b[0m Traceback (most recent call last):\n",
      "  \u001b[31m   \u001b[0m   File \"<string>\", line 2, in <module>\n",
      "  \u001b[31m   \u001b[0m   File \"<pip-setuptools-caller>\", line 34, in <module>\n",
      "  \u001b[31m   \u001b[0m   File \"/private/var/folders/ks/bjl76g8d4zxgw0m5p8z2pd9r0000gn/T/pip-install-7jeei0rs/pyfolio_f282641324394156b389485bb22118ef/setup.py\", line 71, in <module>\n",
      "  \u001b[31m   \u001b[0m     version=versioneer.get_version(),\n",
      "  \u001b[31m   \u001b[0m             ^^^^^^^^^^^^^^^^^^^^^^^^\n",
      "  \u001b[31m   \u001b[0m   File \"/private/var/folders/ks/bjl76g8d4zxgw0m5p8z2pd9r0000gn/T/pip-install-7jeei0rs/pyfolio_f282641324394156b389485bb22118ef/versioneer.py\", line 1407, in get_version\n",
      "  \u001b[31m   \u001b[0m     return get_versions()[\"version\"]\n",
      "  \u001b[31m   \u001b[0m            ^^^^^^^^^^^^^^\n",
      "  \u001b[31m   \u001b[0m   File \"/private/var/folders/ks/bjl76g8d4zxgw0m5p8z2pd9r0000gn/T/pip-install-7jeei0rs/pyfolio_f282641324394156b389485bb22118ef/versioneer.py\", line 1341, in get_versions\n",
      "  \u001b[31m   \u001b[0m     cfg = get_config_from_root(root)\n",
      "  \u001b[31m   \u001b[0m           ^^^^^^^^^^^^^^^^^^^^^^^^^^\n",
      "  \u001b[31m   \u001b[0m   File \"/private/var/folders/ks/bjl76g8d4zxgw0m5p8z2pd9r0000gn/T/pip-install-7jeei0rs/pyfolio_f282641324394156b389485bb22118ef/versioneer.py\", line 399, in get_config_from_root\n",
      "  \u001b[31m   \u001b[0m     parser = configparser.SafeConfigParser()\n",
      "  \u001b[31m   \u001b[0m              ^^^^^^^^^^^^^^^^^^^^^^^^^^^^^\n",
      "  \u001b[31m   \u001b[0m AttributeError: module 'configparser' has no attribute 'SafeConfigParser'. Did you mean: 'RawConfigParser'?\n",
      "  \u001b[31m   \u001b[0m \u001b[31m[end of output]\u001b[0m\n",
      "  \n",
      "  \u001b[1;35mnote\u001b[0m: This error originates from a subprocess, and is likely not a problem with pip.\n",
      "\u001b[?25h\u001b[1;31merror\u001b[0m: \u001b[1mmetadata-generation-failed\u001b[0m\n",
      "\n",
      "\u001b[31m×\u001b[0m Encountered error while generating package metadata.\n",
      "\u001b[31m╰─>\u001b[0m See above for output.\n",
      "\n",
      "\u001b[1;35mnote\u001b[0m: This is an issue with the package mentioned above, not pip.\n",
      "\u001b[1;36mhint\u001b[0m: See above for details.\n"
     ]
    }
   ],
   "source": [
    "!git clone https://github.com/AI4Finance-Foundation/FinRL.git\n",
    "\n",
    "%cd FinRL\n",
    "!pip install -e .\n",
    "\n"
   ]
  },
  {
   "cell_type": "code",
   "execution_count": 12,
   "metadata": {},
   "outputs": [
    {
     "name": "stdout",
     "output_type": "stream",
     "text": [
      "                  date              tic    open   high    low   close  volume\n",
      "1  2014-12-02 08:00:00  COINBASE:BTCUSD  377.00  378.0  377.0  378.00    15.0\n",
      "7  2014-12-12 08:00:00  COINBASE:BTCUSD  379.00  379.0  350.0  350.00     3.0\n",
      "8  2014-12-18 08:00:00  COINBASE:BTCUSD  345.00  345.0  340.0  340.00     2.0\n",
      "10 2015-01-13 08:00:00  COINBASE:BTCUSD  260.00  260.0  260.0  260.00     1.0\n",
      "12 2015-01-15 08:00:00  COINBASE:BTCUSD  191.99  224.0  150.0  204.22     1.0\n"
     ]
    }
   ],
   "source": [
    "import pandas as pd\n",
    "\n",
    "# Load your CSV\n",
    "df = pd.read_csv(\"data/BTCUSD/BTCUSD_daily.csv\")\n",
    "\n",
    "# Rename columns to match FinRL format\n",
    "df.rename(columns={\n",
    "    'datetime': 'date',\n",
    "    'symbol': 'tic',\n",
    "    'open': 'open',\n",
    "    'high': 'high',\n",
    "    'low': 'low',\n",
    "    'close': 'close',\n",
    "    'volume': 'volume'\n",
    "}, inplace=True)\n",
    "\n",
    "# Convert date to datetime format\n",
    "df['date'] = pd.to_datetime(df['date'])\n",
    "\n",
    "# Optional: remove missing or zero-volume rows\n",
    "df = df[df['volume'] > 0]\n",
    "\n",
    "# Reorder columns as expected by FinRL\n",
    "df = df[['date', 'tic', 'open', 'high', 'low', 'close', 'volume']]\n",
    "\n",
    "# Double-check\n",
    "print(df.head())\n"
   ]
  },
  {
   "cell_type": "code",
   "execution_count": 20,
   "metadata": {},
   "outputs": [
    {
     "ename": "ModuleNotFoundError",
     "evalue": "No module named 'finrl.env'",
     "output_type": "error",
     "traceback": [
      "\u001b[0;31m---------------------------------------------------------------------------\u001b[0m",
      "\u001b[0;31mModuleNotFoundError\u001b[0m                       Traceback (most recent call last)",
      "Cell \u001b[0;32mIn[20], line 1\u001b[0m\n\u001b[0;32m----> 1\u001b[0m \u001b[38;5;28;01mfrom\u001b[39;00m \u001b[38;5;21;01mfinrl\u001b[39;00m\u001b[38;5;21;01m.\u001b[39;00m\u001b[38;5;21;01menv\u001b[39;00m\u001b[38;5;21;01m.\u001b[39;00m\u001b[38;5;21;01menv_stock_trading\u001b[39;00m \u001b[38;5;28;01mimport\u001b[39;00m StockTradingEnv\n\u001b[1;32m      3\u001b[0m stock_dim \u001b[38;5;241m=\u001b[39m \u001b[38;5;241m1\u001b[39m\n\u001b[1;32m      4\u001b[0m state_space \u001b[38;5;241m=\u001b[39m \u001b[38;5;241m1\u001b[39m \u001b[38;5;241m+\u001b[39m \u001b[38;5;241m2\u001b[39m \u001b[38;5;241m*\u001b[39m stock_dim  \u001b[38;5;66;03m# cash + price + holdings\u001b[39;00m\n",
      "\u001b[0;31mModuleNotFoundError\u001b[0m: No module named 'finrl.env'"
     ]
    }
   ],
   "source": [
    "from finrl.env.env_stock_trading import StockTradingEnv\n",
    "\n",
    "stock_dim = 1\n",
    "state_space = 1 + 2 * stock_dim  # cash + price + holdings\n",
    "action_space = stock_dim\n",
    "\n",
    "env_kwargs = {\n",
    "    \"hmax\": 100,                        # max units to trade\n",
    "    \"initial_amount\": 100000,          # starting capital\n",
    "    \"buy_cost_pct\": 0.001,\n",
    "    \"sell_cost_pct\": 0.001,\n",
    "    \"state_space\": state_space,\n",
    "    \"stock_dim\": stock_dim,\n",
    "    \"tech_indicator_list\": [],         # can add RSI, MACD later\n",
    "    \"action_space\": action_space,\n",
    "    \"reward_scaling\": 1e-4,\n",
    "}\n"
   ]
  }
 ],
 "metadata": {
  "kernelspec": {
   "display_name": "base",
   "language": "python",
   "name": "python3"
  },
  "language_info": {
   "codemirror_mode": {
    "name": "ipython",
    "version": 3
   },
   "file_extension": ".py",
   "mimetype": "text/x-python",
   "name": "python",
   "nbconvert_exporter": "python",
   "pygments_lexer": "ipython3",
   "version": "3.12.2"
  }
 },
 "nbformat": 4,
 "nbformat_minor": 2
}
